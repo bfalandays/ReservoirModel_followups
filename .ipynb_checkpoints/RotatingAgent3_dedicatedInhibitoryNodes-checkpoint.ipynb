{
 "cells": [
  {
   "cell_type": "code",
   "execution_count": 1,
   "metadata": {},
   "outputs": [],
   "source": [
    "#%matplotlib notebook\n",
    "\n",
    "# import modules\n",
    "import random\n",
    "import scipy.stats\n",
    "import numpy as np\n",
    "import pandas as pd\n",
    "import matplotlib\n",
    "import matplotlib.pyplot as plt\n",
    "from matplotlib.colors import ListedColormap\n",
    "from matplotlib import cm\n",
    "from pathlib import Path\n",
    "import os\n",
    "cwd = os.getcwd()\n",
    "#import statsmodels.stats.moment_helpers\n",
    "#from datetime import datetime\n",
    "#import multiprocessing as mp\n",
    "import csv\n",
    "import networkx as nx\n",
    "from IPython.display import HTML\n",
    "from matplotlib import animation\n",
    "import networkx as nx"
   ]
  },
  {
   "cell_type": "markdown",
   "metadata": {},
   "source": [
    "# Setup"
   ]
  },
  {
   "cell_type": "markdown",
   "metadata": {},
   "source": [
    "## Parameters"
   ]
  },
  {
   "cell_type": "code",
   "execution_count": 2,
   "metadata": {},
   "outputs": [],
   "source": [
    "plotIter=3600*2\n",
    "nnodes=350\n",
    "p_link=.1\n",
    "leak=.25#\n",
    "leaktype=1 #1 = leak a percentage, or 2 = leak a constant rate\n",
    "lrate_wmat=.01\n",
    "lrate_targ=.01\n",
    "targ_min=1\n",
    "sens_offset=30\n",
    "movement_amp=10\n",
    "input_amp=.75\n",
    "spike_cost = 0#.01\n",
    "stim_speed = 1\n",
    "noise_sd = 0#1\n",
    "weight_sd_init = 1\n",
    "effector_type = 1\n",
    "acts_neg=0"
   ]
  },
  {
   "cell_type": "markdown",
   "metadata": {},
   "source": [
    "## Set up sensor nodes and input connections"
   ]
  },
  {
   "cell_type": "code",
   "execution_count": 3,
   "metadata": {},
   "outputs": [],
   "source": [
    "sens_degrees = np.concatenate([np.flip(np.arange(-61,63,4)+30), np.flip(np.arange(-60,64,4)-30)])\n",
    "\n",
    "input_wmat=np.zeros((len(sens_degrees),nnodes))\n",
    "for row in range(input_wmat.shape[0]):\n",
    "    for col in range(nnodes):\n",
    "        input_wmat[row,col]=random.choices([0,input_amp], weights=(1-p_link,p_link), k=1)[0]"
   ]
  },
  {
   "cell_type": "code",
   "execution_count": 4,
   "metadata": {},
   "outputs": [
    {
     "data": {
      "text/plain": [
       "array([ 89,  85,  81,  77,  73,  69,  65,  61,  57,  53,  49,  45,  41,\n",
       "        37,  33,  29,  25,  21,  17,  13,   9,   5,   1,  -3,  -7, -11,\n",
       "       -15, -19, -23, -27, -31])"
      ]
     },
     "execution_count": 4,
     "metadata": {},
     "output_type": "execute_result"
    }
   ],
   "source": [
    "np.flip(np.arange(-61,63,4)+30)"
   ]
  },
  {
   "cell_type": "code",
   "execution_count": 5,
   "metadata": {},
   "outputs": [
    {
     "data": {
      "text/plain": [
       "array([ 30,  26,  22,  18,  14,  10,   6,   2,  -2,  -6, -10, -14, -18,\n",
       "       -22, -26, -30, -34, -38, -42, -46, -50, -54, -58, -62, -66, -70,\n",
       "       -74, -78, -82, -86, -90])"
      ]
     },
     "execution_count": 5,
     "metadata": {},
     "output_type": "execute_result"
    }
   ],
   "source": [
    "np.flip(np.arange(-60,64,4)-30)"
   ]
  },
  {
   "cell_type": "code",
   "execution_count": 6,
   "metadata": {},
   "outputs": [
    {
     "data": {
      "text/plain": [
       "31"
      ]
     },
     "execution_count": 6,
     "metadata": {},
     "output_type": "execute_result"
    }
   ],
   "source": [
    "len(np.flip(np.arange(-60,64,4)-30))"
   ]
  },
  {
   "cell_type": "markdown",
   "metadata": {},
   "source": [
    "## Set up internal weight matrix"
   ]
  },
  {
   "cell_type": "code",
   "execution_count": 7,
   "metadata": {},
   "outputs": [],
   "source": [
    "link_mat = np.zeros((nnodes,nnodes))\n",
    "inhibitory_nodes=[]\n",
    "for row in range(link_mat.shape[0]):\n",
    "    inhibitory = random.choices([0,1],weights=(.75,.25),k=1)[0]\n",
    "    if inhibitory == 1:\n",
    "        inhibitory_nodes.append(row)\n",
    "    for col in range(link_mat.shape[1]):\n",
    "        if row == col:\n",
    "            continue\n",
    "        if inhibitory == 1:\n",
    "            link_mat[row,col] = random.choices([0,-1], weights=(1-p_link,p_link), k=1)[0]\n",
    "        else:\n",
    "            link_mat[row,col] = random.choices([0,1], weights=(1-p_link,p_link), k=1)[0]\n",
    "        \n",
    "wmat=np.zeros((nnodes,nnodes))\n",
    "for row in range(wmat.shape[0]):\n",
    "    for col in range(wmat.shape[1]):\n",
    "        if link_mat[row,col] == 1:\n",
    "            wmat[row,col] =  np.random.normal(input_amp,.1)\n",
    "        if link_mat[row,col] == -1:\n",
    "            wmat[row,col] = np.random.normal(-input_amp,.1)\n",
    "            \n",
    "start_wmat=wmat.copy()"
   ]
  },
  {
   "cell_type": "code",
   "execution_count": 8,
   "metadata": {},
   "outputs": [
    {
     "data": {
      "text/plain": [
       "(array([ 517., 2121.,  324.,    0.,    0.,    0.,   23., 2313., 6293.,\n",
       "         560.]),\n",
       " array([-1.06507214, -0.8465329 , -0.62799365, -0.40945441, -0.19091517,\n",
       "         0.02762407,  0.24616332,  0.46470256,  0.6832418 ,  0.90178104,\n",
       "         1.12032028]),\n",
       " <BarContainer object of 10 artists>)"
      ]
     },
     "execution_count": 8,
     "metadata": {},
     "output_type": "execute_result"
    },
    {
     "data": {
      "image/png": "[encoded data removed]",
      "text/plain": [
       "<Figure size 432x288 with 1 Axes>"
      ]
     },
     "metadata": {
      "needs_background": "light"
     },
     "output_type": "display_data"
    }
   ],
   "source": [
    "plt.hist(wmat[wmat != 0])"
   ]
  },
  {
   "cell_type": "code",
   "execution_count": 8,
   "metadata": {
    "scrolled": true
   },
   "outputs": [],
   "source": [
    "# # hist of wmat\n",
    "# n, bins, patches = plt.hist(x=np.matrix.flatten(wmat[link_mat != 0]), bins='auto', color='#0504aa',\n",
    "#                             alpha=0.7, rwidth=0.85)\n",
    "# plt.grid(axis='y', alpha=0.75)\n",
    "# plt.xlabel('Value')\n",
    "# plt.ylabel('Frequency')\n",
    "# plt.title('Weights at Start')\n",
    "# #plt.text(23, 45, r'$\\mu=15, b=3$')\n",
    "# maxfreq = n.max()\n",
    "# # Set a clean upper y-axis limit.\n",
    "# plt.ylim(ymax=np.ceil(maxfreq / 10) * 10 if maxfreq % 10 else maxfreq + 10)"
   ]
  },
  {
   "cell_type": "code",
   "execution_count": 9,
   "metadata": {},
   "outputs": [],
   "source": [
    "effector_nodes=[]\n",
    "output_wmat=np.zeros((nnodes,2))\n",
    "for row in range(output_wmat.shape[0]):\n",
    "    for col in range(output_wmat.shape[1]):\n",
    "        output_wmat[row,col]=random.choices([0,1], weights=(1-p_link,p_link), k=1)[0]\n",
    "        if output_wmat[row,col] != 0:\n",
    "            effector_nodes.append(row)"
   ]
  },
  {
   "cell_type": "markdown",
   "metadata": {},
   "source": [
    "## Functions"
   ]
  },
  {
   "cell_type": "code",
   "execution_count": 10,
   "metadata": {},
   "outputs": [],
   "source": [
    "def get_plot_vals(degree, heading):\n",
    "    x = np.cos(np.radians(degree))\n",
    "    y = np.sin(np.radians(degree))\n",
    "    \n",
    "    sLdeg = heading + sens_offset\n",
    "    if sLdeg > 360:\n",
    "        sLdeg = sLdeg - 360\n",
    "    sRdeg = heading - sens_offset\n",
    "    if sRdeg < 0:\n",
    "        sRdeg = 360 + sRdeg\n",
    "        \n",
    "    sLx = .5*np.cos(np.radians(sLdeg)) \n",
    "    sLy = .5*np.sin(np.radians(sLdeg)) \n",
    "    sLpos = np.array([sLx,sLy])\n",
    "    \n",
    "    sRx = .5*np.cos(np.radians(sRdeg)) \n",
    "    sRy = .5*np.sin(np.radians(sRdeg))\n",
    "    sRpos = np.array([sRx, sRy])\n",
    "    \n",
    "    return x, y, sLx, sLy, sRx, sRy\n",
    "\n",
    "def move_stim(degree, direction):\n",
    "    if direction == 1:\n",
    "        degree += stim_speed\n",
    "    else:\n",
    "        degree -= stim_speed\n",
    "        \n",
    "    if degree > 360:\n",
    "        degree = degree - 360\n",
    "    if degree < 0:\n",
    "        degree = degree + 360\n",
    "\n",
    "    return degree\n",
    "\n",
    "def rotate_agent(output_acts, heading):\n",
    "    diff = (output_acts[0] - output_acts[1])*movement_amp\n",
    "    heading = heading + diff\n",
    "    \n",
    "    if heading > 360:\n",
    "        heading = heading - 360\n",
    "    if heading < 0:\n",
    "        heading = heading + 360\n",
    "    \n",
    "    return heading\n",
    "\n",
    "def get_input_acts(heading, degree):\n",
    "    \n",
    "    sens_degrees_ = sens_degrees + heading\n",
    "    sens_degrees_[sens_degrees_>360]-=360\n",
    "    sens_degrees_[sens_degrees_<0]+=360\n",
    "    \n",
    "    sens_dists = np.abs(sens_degrees_ - degree)\n",
    "    sens_acts = np.zeros(len(sens_degrees))\n",
    "    sens_acts[sens_dists<=4]= 1 #- sens_dists/60\n",
    "        \n",
    "    return sens_acts\n",
    "\n",
    "def get_acts(acts,leak,spikes,wmat,input,input_wmat,targets, refractory, refractory_acts,spike_rep):\n",
    "     \n",
    "    acts = acts*(1-leak) + np.dot(input, input_wmat) + np.dot(spikes, wmat)\n",
    "\n",
    "    if acts_neg == 0:\n",
    "        acts[acts<0]=0\n",
    "    \n",
    "    prev_spikes = spikes.copy() \n",
    "    thresholds=targets*2\n",
    "    spikes[acts >= thresholds]=1\n",
    "    spikes[acts < thresholds]=0\n",
    "    \n",
    "    acts[spikes==1]-=thresholds[spikes==1]\n",
    "       \n",
    "    errors=acts-targets\n",
    "    \n",
    "    return acts, spikes, errors, refractory,refractory_acts, prev_spikes, spike_rep\n",
    "\n",
    "def learning(learn_on,link_mat,spikes,prev_spikes, errors,wmat,targets):\n",
    "    \n",
    "    active_neighbors=np.abs(link_mat.copy())\n",
    "    active_neighbors[prev_spikes==0,:]=0\n",
    "    d_wmat = active_neighbors.copy()\n",
    "    active_neighbors=np.sum(active_neighbors,axis=0)#+np.repeat(1,nnodes)\n",
    "    \n",
    "    if learn_on==1:\n",
    "        if np.sum(active_neighbors) >0:\n",
    "            d_wmat = errors*d_wmat\n",
    "            d_wmat=(d_wmat/active_neighbors)\n",
    "            #d_wmat=(d_wmat/(active_neighbors+1))\n",
    "            d_wmat=np.nan_to_num(d_wmat)\n",
    "            wmat-=d_wmat\n",
    "            \n",
    "        #targets=targets+((errors/(active_neighbors+1))*lrate_targ)\n",
    "        targets=targets+(errors*lrate_targ) \n",
    "        targets[targets<targ_min]=targ_min\n",
    "            \n",
    "    return wmat, targets\n",
    "\n"
   ]
  },
  {
   "cell_type": "markdown",
   "metadata": {},
   "source": [
    "# Run the model"
   ]
  },
  {
   "cell_type": "code",
   "execution_count": 11,
   "metadata": {
    "scrolled": false
   },
   "outputs": [
    {
     "name": "stderr",
     "output_type": "stream",
     "text": [
      "/var/folders/4l/vdtt_pdj26z3pnjjrzxryb20kgdqb9/T/ipykernel_38773/3023510683.py:15: FutureWarning: The frame.append method is deprecated and will be removed from pandas in a future version. Use pandas.concat instead.\n",
      "  spikes_overTime=spikes_overTime.append([spikes],ignore_index=True)\n",
      "/var/folders/4l/vdtt_pdj26z3pnjjrzxryb20kgdqb9/T/ipykernel_38773/3023510683.py:23: FutureWarning: The frame.append method is deprecated and will be removed from pandas in a future version. Use pandas.concat instead.\n",
      "  positionData=positionData.append([[degree, heading, 0]],ignore_index=True)\n"
     ]
    },
    {
     "data": {
      "image/png": "[encoded data removed]",
      "text/plain": [
       "<Figure size 864x576 with 6 Axes>"
      ]
     },
     "metadata": {
      "needs_background": "light"
     },
     "output_type": "display_data"
    }
   ],
   "source": [
    "spikes=np.zeros(nnodes)\n",
    "spike_rep=np.zeros(nnodes)\n",
    "refractory=np.zeros(nnodes)\n",
    "refractory_acts=np.zeros(nnodes)\n",
    "targets=np.repeat(targ_min,nnodes)\n",
    "acts=np.zeros(nnodes)\n",
    "inputs = np.zeros(len(sens_degrees))\n",
    "output_acts = np.zeros(2)\n",
    "# output_spikes = np.zeros(2)\n",
    "# output_targets = np.repeat(targ_min,2)\n",
    "MeanErs=[]\n",
    "MeanActs =[]\n",
    "MeanSpikes=[]\n",
    "spikes_overTime=pd.DataFrame()\n",
    "spikes_overTime=spikes_overTime.append([spikes],ignore_index=True)\n",
    "\n",
    "i=1\n",
    "degree = 0\n",
    "heading = 90\n",
    "direction = 1\n",
    "\n",
    "positionData=pd.DataFrame()\n",
    "positionData=positionData.append([[degree, heading, 0]],ignore_index=True)\n",
    "\n",
    "learn_on=1\n",
    "def drawframe(n):\n",
    "    global spikes_overTime, positionData,layout,refractory,refractory_acts,noise_sd,link_decay,spike_rep,direction,degree, heading, acts, input_acts, output_acts, leak, spikes, prev_spikes, wmat, input_wmat, output_wmat, targets, errors,MeanAbsErs,MeanActs,MeanSpikes\n",
    "    \n",
    "    #     if n==(plotIter/2):\n",
    "    if (n %  720 == 0) and (n !=0):\n",
    "        if direction == 1:\n",
    "            direction = 2\n",
    "        else:\n",
    "            direction = 1\n",
    "    \n",
    "    input = get_input_acts(heading, degree)\n",
    "    \n",
    "    acts, spikes, errors, refractory,refractory_acts, prev_spikes, spike_rep = get_acts(acts,leak,spikes,wmat,input,input_wmat,targets,refractory,refractory_acts,spike_rep)\n",
    "    spikes_overTime=spikes_overTime.append([spikes],ignore_index=True)\n",
    "    \n",
    "    output_acts = np.dot(spikes, output_wmat)/np.sum(output_wmat, axis=0)\n",
    "        \n",
    "    wmat, targets = learning(learn_on,link_mat,spikes,prev_spikes, errors, wmat,targets)\n",
    "    \n",
    "    x, y, sLx, sLy, sRx, sRy = get_plot_vals(degree, heading)\n",
    "    \n",
    "    degree = move_stim(degree, direction)\n",
    "    heading = rotate_agent(output_acts, heading)\n",
    "    positionData=positionData.append([[degree, heading, n]],ignore_index=True)\n",
    "\n",
    "    pt1.set_data(x,y)\n",
    "    sL.set_data(sLx,sLy)\n",
    "    sR.set_data(sRx,sRy)\n",
    "\n",
    "    ax2.clear()\n",
    "    ax2.set_ylim((0, 1))\n",
    "    ax2.bar(sens_degrees,input, color = bar_colors, width=3,alpha=.4)\n",
    "    ax2.invert_xaxis()\n",
    "\n",
    "    bar1_plt3.set_height(output_acts[0])\n",
    "    bar2_plt3.set_height(output_acts[1])\n",
    "    \n",
    "    ax4.clear()\n",
    "    nx.draw_networkx(net, arrows=True,width=.1,with_labels=False, node_size=20, pos = layout, edge_color=edge_colors,node_color=spikes)\n",
    "    \n",
    "    bar1_plt5.set_height(np.mean(acts))\n",
    "    bar2_plt5.set_height(np.mean(errors[refractory!=2]))\n",
    "    bar3_plt5.set_height(np.mean(targets))\n",
    "    \n",
    "    ax6.clear()\n",
    "    f, bins, patches = ax6.hist(x=np.matrix.flatten(wmat[link_mat!=0]), bins='auto',alpha=0.7, rwidth=0.85)\n",
    "    maxfreq = f.max()\n",
    "    ax6.set_ylim(ymax=np.ceil(maxfreq / 10) * 10 if maxfreq % 10 else maxfreq + 10)\n",
    "\n",
    "    txt_title1.set_text('Frame = {0:4d}'.format(n))\n",
    "    txt_title2 = ax2.set_title('Sensors')\n",
    "    txt_title4 = ax4.set_title('Reservoir')\n",
    "    txt_title6 = ax6.set_title('Weight Dist.')\n",
    "    \n",
    "    if (n % 100 !=0):\n",
    "        MeanEr = np.mean(errors[refractory!=2])\n",
    "        MeanErs.append(MeanEr)\n",
    "        MeanAct = np.mean(acts)\n",
    "        MeanActs.append(MeanAct)\n",
    "        MeanSpike = np.mean(spikes)\n",
    "        MeanSpikes.append(MeanSpike)\n",
    "        #print('iteration: ', n, ' ; MeanAbsEr: ',MeanAbsEr, ' ; MeanAct: ', MeanAct)\n",
    "    else:\n",
    "        MeanEr = np.mean(errors[refractory!=2])\n",
    "        MeanErs.append(MeanEr)\n",
    "        MeanAct = np.mean(acts)\n",
    "        MeanActs.append(MeanAct)\n",
    "        MeanSpike = np.mean(spikes)\n",
    "        MeanSpikes.append(MeanSpike)\n",
    "        \n",
    "        MeanErs_ = np.round(np.mean(MeanErs),decimals=2)\n",
    "        MeanActs_ = np.round(np.mean(MeanActs),decimals=2)\n",
    "        MeanSpikes_ = np.round(np.mean(MeanSpikes),decimals=2)\n",
    "        print('iteration: ', str(n), ' ; MeanErs: ',str(MeanErs_), ' ; MeanAct: ', str(MeanActs_), '; MeanSpikes: ', str(MeanSpikes_))\n",
    "        MeanAbsErs=[]\n",
    "        MeanActs=[]\n",
    "        MeanSpikes=[]       \n",
    "\n",
    "    return (pt1,sL,sR)\n",
    "\n",
    "# create a figure and axes\n",
    "fig = plt.figure(figsize=(12,8))\n",
    "ax1 = plt.subplot(2,3,1)\n",
    "ax2 = plt.subplot(2,3,2)\n",
    "ax3 = plt.subplot(2,3,3)\n",
    "ax4 = plt.subplot(2,3,4)\n",
    "ax5 = plt.subplot(2,3,5)\n",
    "ax6 = plt.subplot(2,3,6)\n",
    "\n",
    "ax1.set_xlim(( -1, 1))            \n",
    "ax1.set_ylim((-1, 1))\n",
    "ax1.set_yticks((-1,-.5,0,.5,1))\n",
    "circle1 = plt.Circle((0, 0), 0.5, color='black', fill = 0)\n",
    "ax1.add_patch(circle1)\n",
    "pt1, = ax1.plot([], [], 'g.', ms=30)\n",
    "sL, = ax1.plot([],[], 'r.', ms =10)\n",
    "sR, = ax1.plot([],[], 'b.', ms =10)\n",
    "x, y, sLx, sLy, sRx, sRy = get_plot_vals(degree,heading)\n",
    "pt1.set_data(x,y)\n",
    "sL.set_data(sLx,sLy)\n",
    "sR.set_data(sRx,sRy)\n",
    "\n",
    "ax2.set_ylim((0, 1))\n",
    "bar_colors=np.array(np.repeat(['r','b'],31))\n",
    "plt2 = ax2.bar(sens_degrees,inputs, color = bar_colors, width=3,alpha=.4)\n",
    "ax2.invert_xaxis()\n",
    "\n",
    "ax3.set_ylim((0, 1))\n",
    "bar1_plt3, bar2_plt3 = ax3.bar(['effector L', 'effector R'],[0,0], color = ['r','b'])\n",
    "\n",
    "plt.sca(ax4)\n",
    "net = nx.from_numpy_matrix(np.abs(link_mat))\n",
    "layout = nx.spring_layout(net)\n",
    "edge_colors=np.repeat([[0.0,0.0,0.0,.2]],len(net.edges),axis=0)\n",
    "node_colors=np.repeat([[0.0,0.0,0.0,1]],nnodes,axis=0)\n",
    "netfig  = nx.draw_networkx(net, arrows=True,width=.1,with_labels=False, node_size=20, pos = layout, edge_color=edge_colors,node_color=node_colors)\n",
    "\n",
    "ax5.set_ylim(-3,3)\n",
    "bar1_plt5, bar2_plt5, bar3_plt5 = ax5.bar(['MAct','MErr', 'MTarget'],[0,0,0],color = 'black')\n",
    "ax5.axhline(y=0.0, color='black', linestyle='--')\n",
    "\n",
    "f, bins, patches = ax6.hist(x=np.matrix.flatten(wmat[link_mat!=0]), bins='auto',alpha=0.7, rwidth=0.85)\n",
    "maxfreq = f.max()\n",
    "ax6.set_ylim(ymax=np.ceil(maxfreq / 10) * 10 if maxfreq % 10 else maxfreq + 10)\n",
    "\n",
    "txt_title1 = ax1.set_title('')\n",
    "txt_title2 = ax2.set_title('Sensors')\n",
    "txt_title3 = ax3.set_title('Effectors')\n",
    "txt_title4 = ax4.set_title('Reservoir')\n",
    "txt_title5 = ax5.set_title('Acts, Errors, Targets')\n",
    "txt_title6 = ax6.set_title('Weight Dist.')\n"
   ]
  },
  {
   "cell_type": "code",
   "execution_count": 12,
   "metadata": {
    "scrolled": true
   },
   "outputs": [
    {
     "name": "stderr",
     "output_type": "stream",
     "text": [
      "/var/folders/4l/vdtt_pdj26z3pnjjrzxryb20kgdqb9/T/ipykernel_38773/3023510683.py:39: FutureWarning: The frame.append method is deprecated and will be removed from pandas in a future version. Use pandas.concat instead.\n",
      "  spikes_overTime=spikes_overTime.append([spikes],ignore_index=True)\n",
      "/var/folders/4l/vdtt_pdj26z3pnjjrzxryb20kgdqb9/T/ipykernel_38773/3023510683.py:49: FutureWarning: The frame.append method is deprecated and will be removed from pandas in a future version. Use pandas.concat instead.\n",
      "  positionData=positionData.append([[degree, heading, n]],ignore_index=True)\n",
      "MovieWriter ffmpeg unavailable; using Pillow instead.\n"
     ]
    },
    {
     "name": "stdout",
     "output_type": "stream",
     "text": [
      "iteration:  0  ; MeanErs:  -0.86  ; MeanAct:  0.14 ; MeanSpikes:  0.0\n"
     ]
    },
    {
     "name": "stderr",
     "output_type": "stream",
     "text": [
      "/var/folders/4l/vdtt_pdj26z3pnjjrzxryb20kgdqb9/T/ipykernel_38773/3023510683.py:39: FutureWarning: The frame.append method is deprecated and will be removed from pandas in a future version. Use pandas.concat instead.\n",
      "  spikes_overTime=spikes_overTime.append([spikes],ignore_index=True)\n",
      "/var/folders/4l/vdtt_pdj26z3pnjjrzxryb20kgdqb9/T/ipykernel_38773/3023510683.py:49: FutureWarning: The frame.append method is deprecated and will be removed from pandas in a future version. Use pandas.concat instead.\n",
      "  positionData=positionData.append([[degree, heading, n]],ignore_index=True)\n"
     ]
    },
    {
     "name": "stdout",
     "output_type": "stream",
     "text": [
      "iteration:  0  ; MeanErs:  -0.82  ; MeanAct:  0.22 ; MeanSpikes:  0.01\n"
     ]
    },
    {
     "name": "stderr",
     "output_type": "stream",
     "text": [
      "/var/folders/4l/vdtt_pdj26z3pnjjrzxryb20kgdqb9/T/ipykernel_38773/1913585032.py:86: RuntimeWarning: invalid value encountered in true_divide\n",
      "  d_wmat=(d_wmat/active_neighbors)\n"
     ]
    },
    {
     "name": "stdout",
     "output_type": "stream",
     "text": [
      "iteration:  0  ; MeanErs:  -0.76  ; MeanAct:  0.35 ; MeanSpikes:  0.05\n"
     ]
    },
    {
     "name": "stderr",
     "output_type": "stream",
     "text": [
      "Exception ignored in: <function TransformNode.set_children.<locals>.<lambda> at 0x7f9255835940>\n",
      "Traceback (most recent call last):\n",
      "  File \"/Users/jfalanda/opt/anaconda3/lib/python3.9/site-packages/matplotlib/transforms.py\", line 222, in <lambda>\n",
      "    self, lambda _, pop=child._parents.pop, k=id(self): pop(k))\n",
      "KeyboardInterrupt: \n"
     ]
    },
    {
     "ename": "ValueError",
     "evalue": "unknown file extension: .mp4",
     "output_type": "error",
     "traceback": [
      "\u001b[0;31m---------------------------------------------------------------------------\u001b[0m",
      "\u001b[0;31mKeyboardInterrupt\u001b[0m                         Traceback (most recent call last)",
      "File \u001b[0;32m~/opt/anaconda3/lib/python3.9/site-packages/matplotlib/animation.py:236\u001b[0m, in \u001b[0;36mAbstractMovieWriter.saving\u001b[0;34m(self, fig, outfile, dpi, *args, **kwargs)\u001b[0m\n\u001b[1;32m    235\u001b[0m \u001b[38;5;28;01mtry\u001b[39;00m:\n\u001b[0;32m--> 236\u001b[0m     \u001b[38;5;28;01myield\u001b[39;00m \u001b[38;5;28mself\u001b[39m\n\u001b[1;32m    237\u001b[0m \u001b[38;5;28;01mfinally\u001b[39;00m:\n",
      "File \u001b[0;32m~/opt/anaconda3/lib/python3.9/site-packages/matplotlib/animation.py:1091\u001b[0m, in \u001b[0;36mAnimation.save\u001b[0;34m(self, filename, writer, fps, dpi, codec, bitrate, extra_args, metadata, extra_anim, savefig_kwargs, progress_callback)\u001b[0m\n\u001b[1;32m   1089\u001b[0m \u001b[38;5;28;01mfor\u001b[39;00m anim, d \u001b[38;5;129;01min\u001b[39;00m \u001b[38;5;28mzip\u001b[39m(all_anim, data):\n\u001b[1;32m   1090\u001b[0m     \u001b[38;5;66;03m# TODO: See if turning off blit is really necessary\u001b[39;00m\n\u001b[0;32m-> 1091\u001b[0m     \u001b[43manim\u001b[49m\u001b[38;5;241;43m.\u001b[39;49m\u001b[43m_draw_next_frame\u001b[49m\u001b[43m(\u001b[49m\u001b[43md\u001b[49m\u001b[43m,\u001b[49m\u001b[43m \u001b[49m\u001b[43mblit\u001b[49m\u001b[38;5;241;43m=\u001b[39;49m\u001b[38;5;28;43;01mFalse\u001b[39;49;00m\u001b[43m)\u001b[49m\n\u001b[1;32m   1092\u001b[0m     \u001b[38;5;28;01mif\u001b[39;00m progress_callback \u001b[38;5;129;01mis\u001b[39;00m \u001b[38;5;129;01mnot\u001b[39;00m \u001b[38;5;28;01mNone\u001b[39;00m:\n",
      "File \u001b[0;32m~/opt/anaconda3/lib/python3.9/site-packages/matplotlib/animation.py:1126\u001b[0m, in \u001b[0;36mAnimation._draw_next_frame\u001b[0;34m(self, framedata, blit)\u001b[0m\n\u001b[1;32m   1125\u001b[0m \u001b[38;5;28mself\u001b[39m\u001b[38;5;241m.\u001b[39m_pre_draw(framedata, blit)\n\u001b[0;32m-> 1126\u001b[0m \u001b[38;5;28;43mself\u001b[39;49m\u001b[38;5;241;43m.\u001b[39;49m\u001b[43m_draw_frame\u001b[49m\u001b[43m(\u001b[49m\u001b[43mframedata\u001b[49m\u001b[43m)\u001b[49m\n\u001b[1;32m   1127\u001b[0m \u001b[38;5;28mself\u001b[39m\u001b[38;5;241m.\u001b[39m_post_draw(framedata, blit)\n",
      "File \u001b[0;32m~/opt/anaconda3/lib/python3.9/site-packages/matplotlib/animation.py:1720\u001b[0m, in \u001b[0;36mFuncAnimation._draw_frame\u001b[0;34m(self, framedata)\u001b[0m\n\u001b[1;32m   1718\u001b[0m \u001b[38;5;66;03m# Call the func with framedata and args. If blitting is desired,\u001b[39;00m\n\u001b[1;32m   1719\u001b[0m \u001b[38;5;66;03m# func needs to return a sequence of any artists that were modified.\u001b[39;00m\n\u001b[0;32m-> 1720\u001b[0m \u001b[38;5;28mself\u001b[39m\u001b[38;5;241m.\u001b[39m_drawn_artists \u001b[38;5;241m=\u001b[39m \u001b[38;5;28;43mself\u001b[39;49m\u001b[38;5;241;43m.\u001b[39;49m\u001b[43m_func\u001b[49m\u001b[43m(\u001b[49m\u001b[43mframedata\u001b[49m\u001b[43m,\u001b[49m\u001b[43m \u001b[49m\u001b[38;5;241;43m*\u001b[39;49m\u001b[38;5;28;43mself\u001b[39;49m\u001b[38;5;241;43m.\u001b[39;49m\u001b[43m_args\u001b[49m\u001b[43m)\u001b[49m\n\u001b[1;32m   1722\u001b[0m \u001b[38;5;28;01mif\u001b[39;00m \u001b[38;5;28mself\u001b[39m\u001b[38;5;241m.\u001b[39m_blit:\n",
      "Input \u001b[0;32mIn [11]\u001b[0m, in \u001b[0;36mdrawframe\u001b[0;34m(n)\u001b[0m\n\u001b[1;32m     63\u001b[0m ax4\u001b[38;5;241m.\u001b[39mclear()\n\u001b[0;32m---> 64\u001b[0m \u001b[43mnx\u001b[49m\u001b[38;5;241;43m.\u001b[39;49m\u001b[43mdraw_networkx\u001b[49m\u001b[43m(\u001b[49m\u001b[43mnet\u001b[49m\u001b[43m,\u001b[49m\u001b[43m \u001b[49m\u001b[43marrows\u001b[49m\u001b[38;5;241;43m=\u001b[39;49m\u001b[38;5;28;43;01mTrue\u001b[39;49;00m\u001b[43m,\u001b[49m\u001b[43mwidth\u001b[49m\u001b[38;5;241;43m=\u001b[39;49m\u001b[38;5;241;43m.1\u001b[39;49m\u001b[43m,\u001b[49m\u001b[43mwith_labels\u001b[49m\u001b[38;5;241;43m=\u001b[39;49m\u001b[38;5;28;43;01mFalse\u001b[39;49;00m\u001b[43m,\u001b[49m\u001b[43m \u001b[49m\u001b[43mnode_size\u001b[49m\u001b[38;5;241;43m=\u001b[39;49m\u001b[38;5;241;43m20\u001b[39;49m\u001b[43m,\u001b[49m\u001b[43m \u001b[49m\u001b[43mpos\u001b[49m\u001b[43m \u001b[49m\u001b[38;5;241;43m=\u001b[39;49m\u001b[43m \u001b[49m\u001b[43mlayout\u001b[49m\u001b[43m,\u001b[49m\u001b[43m \u001b[49m\u001b[43medge_color\u001b[49m\u001b[38;5;241;43m=\u001b[39;49m\u001b[43medge_colors\u001b[49m\u001b[43m,\u001b[49m\u001b[43mnode_color\u001b[49m\u001b[38;5;241;43m=\u001b[39;49m\u001b[43mspikes\u001b[49m\u001b[43m)\u001b[49m\n\u001b[1;32m     66\u001b[0m bar1_plt5\u001b[38;5;241m.\u001b[39mset_height(np\u001b[38;5;241m.\u001b[39mmean(acts))\n",
      "File \u001b[0;32m~/opt/anaconda3/lib/python3.9/site-packages/networkx/drawing/nx_pylab.py:334\u001b[0m, in \u001b[0;36mdraw_networkx\u001b[0;34m(G, pos, arrows, with_labels, **kwds)\u001b[0m\n\u001b[1;32m    333\u001b[0m draw_networkx_nodes(G, pos, \u001b[38;5;241m*\u001b[39m\u001b[38;5;241m*\u001b[39mnode_kwds)\n\u001b[0;32m--> 334\u001b[0m \u001b[43mdraw_networkx_edges\u001b[49m\u001b[43m(\u001b[49m\u001b[43mG\u001b[49m\u001b[43m,\u001b[49m\u001b[43m \u001b[49m\u001b[43mpos\u001b[49m\u001b[43m,\u001b[49m\u001b[43m \u001b[49m\u001b[43marrows\u001b[49m\u001b[38;5;241;43m=\u001b[39;49m\u001b[43marrows\u001b[49m\u001b[43m,\u001b[49m\u001b[43m \u001b[49m\u001b[38;5;241;43m*\u001b[39;49m\u001b[38;5;241;43m*\u001b[39;49m\u001b[43medge_kwds\u001b[49m\u001b[43m)\u001b[49m\n\u001b[1;32m    335\u001b[0m \u001b[38;5;28;01mif\u001b[39;00m with_labels:\n",
      "File \u001b[0;32m~/opt/anaconda3/lib/python3.9/site-packages/networkx/drawing/nx_pylab.py:889\u001b[0m, in \u001b[0;36mdraw_networkx_edges\u001b[0;34m(G, pos, edgelist, width, edge_color, style, alpha, arrowstyle, arrowsize, edge_cmap, edge_vmin, edge_vmax, ax, arrows, label, node_size, nodelist, node_shape, connectionstyle, min_source_margin, min_target_margin)\u001b[0m\n\u001b[1;32m    888\u001b[0m \u001b[38;5;28;01melse\u001b[39;00m:\n\u001b[0;32m--> 889\u001b[0m     edge_viz_obj \u001b[38;5;241m=\u001b[39m \u001b[43m_draw_networkx_edges_fancy_arrow_patch\u001b[49m\u001b[43m(\u001b[49m\u001b[43m)\u001b[49m\n\u001b[1;32m    891\u001b[0m \u001b[38;5;66;03m# update view after drawing\u001b[39;00m\n",
      "File \u001b[0;32m~/opt/anaconda3/lib/python3.9/site-packages/networkx/drawing/nx_pylab.py:867\u001b[0m, in \u001b[0;36mdraw_networkx_edges.<locals>._draw_networkx_edges_fancy_arrow_patch\u001b[0;34m()\u001b[0m\n\u001b[1;32m    866\u001b[0m     arrow_collection\u001b[38;5;241m.\u001b[39mappend(arrow)\n\u001b[0;32m--> 867\u001b[0m     \u001b[43max\u001b[49m\u001b[38;5;241;43m.\u001b[39;49m\u001b[43madd_patch\u001b[49m\u001b[43m(\u001b[49m\u001b[43marrow\u001b[49m\u001b[43m)\u001b[49m\n\u001b[1;32m    869\u001b[0m \u001b[38;5;28;01mreturn\u001b[39;00m arrow_collection\n",
      "File \u001b[0;32m~/opt/anaconda3/lib/python3.9/site-packages/matplotlib/axes/_base.py:2358\u001b[0m, in \u001b[0;36m_AxesBase.add_patch\u001b[0;34m(self, p)\u001b[0m\n\u001b[1;32m   2357\u001b[0m     p\u001b[38;5;241m.\u001b[39mset_clip_path(\u001b[38;5;28mself\u001b[39m\u001b[38;5;241m.\u001b[39mpatch)\n\u001b[0;32m-> 2358\u001b[0m \u001b[38;5;28;43mself\u001b[39;49m\u001b[38;5;241;43m.\u001b[39;49m\u001b[43m_update_patch_limits\u001b[49m\u001b[43m(\u001b[49m\u001b[43mp\u001b[49m\u001b[43m)\u001b[49m\n\u001b[1;32m   2359\u001b[0m \u001b[38;5;28mself\u001b[39m\u001b[38;5;241m.\u001b[39m_children\u001b[38;5;241m.\u001b[39mappend(p)\n",
      "File \u001b[0;32m~/opt/anaconda3/lib/python3.9/site-packages/matplotlib/axes/_base.py:2376\u001b[0m, in \u001b[0;36m_AxesBase._update_patch_limits\u001b[0;34m(self, patch)\u001b[0m\n\u001b[1;32m   2375\u001b[0m     \u001b[38;5;28;01mreturn\u001b[39;00m\n\u001b[0;32m-> 2376\u001b[0m p \u001b[38;5;241m=\u001b[39m \u001b[43mpatch\u001b[49m\u001b[38;5;241;43m.\u001b[39;49m\u001b[43mget_path\u001b[49m\u001b[43m(\u001b[49m\u001b[43m)\u001b[49m\n\u001b[1;32m   2377\u001b[0m vertices \u001b[38;5;241m=\u001b[39m p\u001b[38;5;241m.\u001b[39mvertices \u001b[38;5;28;01mif\u001b[39;00m p\u001b[38;5;241m.\u001b[39mcodes \u001b[38;5;129;01mis\u001b[39;00m \u001b[38;5;28;01mNone\u001b[39;00m \u001b[38;5;28;01melse\u001b[39;00m p\u001b[38;5;241m.\u001b[39mvertices[np\u001b[38;5;241m.\u001b[39misin(\n\u001b[1;32m   2378\u001b[0m     p\u001b[38;5;241m.\u001b[39mcodes, (mpath\u001b[38;5;241m.\u001b[39mPath\u001b[38;5;241m.\u001b[39mCLOSEPOLY, mpath\u001b[38;5;241m.\u001b[39mPath\u001b[38;5;241m.\u001b[39mSTOP), invert\u001b[38;5;241m=\u001b[39m\u001b[38;5;28;01mTrue\u001b[39;00m)]\n",
      "File \u001b[0;32m~/opt/anaconda3/lib/python3.9/site-packages/matplotlib/patches.py:4440\u001b[0m, in \u001b[0;36mFancyArrowPatch.get_path\u001b[0;34m(self)\u001b[0m\n\u001b[1;32m   4438\u001b[0m \u001b[38;5;66;03m# The path is generated in display coordinates, then converted back to\u001b[39;00m\n\u001b[1;32m   4439\u001b[0m \u001b[38;5;66;03m# data coordinates.\u001b[39;00m\n\u001b[0;32m-> 4440\u001b[0m _path, fillable \u001b[38;5;241m=\u001b[39m \u001b[38;5;28;43mself\u001b[39;49m\u001b[38;5;241;43m.\u001b[39;49m\u001b[43m_get_path_in_displaycoord\u001b[49m\u001b[43m(\u001b[49m\u001b[43m)\u001b[49m\n\u001b[1;32m   4441\u001b[0m \u001b[38;5;28;01mif\u001b[39;00m np\u001b[38;5;241m.\u001b[39miterable(fillable):\n",
      "File \u001b[0;32m~/opt/anaconda3/lib/python3.9/site-packages/matplotlib/patches.py:4453\u001b[0m, in \u001b[0;36mFancyArrowPatch._get_path_in_displaycoord\u001b[0;34m(self)\u001b[0m\n\u001b[1;32m   4452\u001b[0m     (posA, posB) \u001b[38;5;241m=\u001b[39m \u001b[38;5;28mself\u001b[39m\u001b[38;5;241m.\u001b[39mget_transform()\u001b[38;5;241m.\u001b[39mtransform((posA, posB))\n\u001b[0;32m-> 4453\u001b[0m     _path \u001b[38;5;241m=\u001b[39m \u001b[38;5;28;43mself\u001b[39;49m\u001b[38;5;241;43m.\u001b[39;49m\u001b[43mget_connectionstyle\u001b[49m\u001b[43m(\u001b[49m\u001b[43m)\u001b[49m\u001b[43m(\u001b[49m\u001b[43mposA\u001b[49m\u001b[43m,\u001b[49m\u001b[43m \u001b[49m\u001b[43mposB\u001b[49m\u001b[43m,\u001b[49m\n\u001b[1;32m   4454\u001b[0m \u001b[43m                                       \u001b[49m\u001b[43mpatchA\u001b[49m\u001b[38;5;241;43m=\u001b[39;49m\u001b[38;5;28;43mself\u001b[39;49m\u001b[38;5;241;43m.\u001b[39;49m\u001b[43mpatchA\u001b[49m\u001b[43m,\u001b[49m\n\u001b[1;32m   4455\u001b[0m \u001b[43m                                       \u001b[49m\u001b[43mpatchB\u001b[49m\u001b[38;5;241;43m=\u001b[39;49m\u001b[38;5;28;43mself\u001b[39;49m\u001b[38;5;241;43m.\u001b[39;49m\u001b[43mpatchB\u001b[49m\u001b[43m,\u001b[49m\n\u001b[1;32m   4456\u001b[0m \u001b[43m                                       \u001b[49m\u001b[43mshrinkA\u001b[49m\u001b[38;5;241;43m=\u001b[39;49m\u001b[38;5;28;43mself\u001b[39;49m\u001b[38;5;241;43m.\u001b[39;49m\u001b[43mshrinkA\u001b[49m\u001b[43m \u001b[49m\u001b[38;5;241;43m*\u001b[39;49m\u001b[43m \u001b[49m\u001b[43mdpi_cor\u001b[49m\u001b[43m,\u001b[49m\n\u001b[1;32m   4457\u001b[0m \u001b[43m                                       \u001b[49m\u001b[43mshrinkB\u001b[49m\u001b[38;5;241;43m=\u001b[39;49m\u001b[38;5;28;43mself\u001b[39;49m\u001b[38;5;241;43m.\u001b[39;49m\u001b[43mshrinkB\u001b[49m\u001b[43m \u001b[49m\u001b[38;5;241;43m*\u001b[39;49m\u001b[43m \u001b[49m\u001b[43mdpi_cor\u001b[49m\n\u001b[1;32m   4458\u001b[0m \u001b[43m                                       \u001b[49m\u001b[43m)\u001b[49m\n\u001b[1;32m   4459\u001b[0m \u001b[38;5;28;01melse\u001b[39;00m:\n",
      "File \u001b[0;32m~/opt/anaconda3/lib/python3.9/site-packages/networkx/drawing/nx_pylab.py:794\u001b[0m, in \u001b[0;36mdraw_networkx_edges.<locals>._draw_networkx_edges_fancy_arrow_patch.<locals>._connectionstyle\u001b[0;34m(posA, posB, *args, **kwargs)\u001b[0m\n\u001b[1;32m    792\u001b[0m \u001b[38;5;66;03m# if not, fall back to the user specified behavior\u001b[39;00m\n\u001b[1;32m    793\u001b[0m \u001b[38;5;28;01melse\u001b[39;00m:\n\u001b[0;32m--> 794\u001b[0m     ret \u001b[38;5;241m=\u001b[39m \u001b[43mbase_connection_style\u001b[49m\u001b[43m(\u001b[49m\u001b[43mposA\u001b[49m\u001b[43m,\u001b[49m\u001b[43m \u001b[49m\u001b[43mposB\u001b[49m\u001b[43m,\u001b[49m\u001b[43m \u001b[49m\u001b[38;5;241;43m*\u001b[39;49m\u001b[43margs\u001b[49m\u001b[43m,\u001b[49m\u001b[43m \u001b[49m\u001b[38;5;241;43m*\u001b[39;49m\u001b[38;5;241;43m*\u001b[39;49m\u001b[43mkwargs\u001b[49m\u001b[43m)\u001b[49m\n\u001b[1;32m    796\u001b[0m \u001b[38;5;28;01mreturn\u001b[39;00m ret\n",
      "File \u001b[0;32m~/opt/anaconda3/lib/python3.9/site-packages/matplotlib/patches.py:2771\u001b[0m, in \u001b[0;36mConnectionStyle._Base.__call__\u001b[0;34m(self, posA, posB, shrinkA, shrinkB, patchA, patchB)\u001b[0m\n\u001b[1;32m   2770\u001b[0m clipped_path \u001b[38;5;241m=\u001b[39m \u001b[38;5;28mself\u001b[39m\u001b[38;5;241m.\u001b[39m_clip(path, patchA, patchB)\n\u001b[0;32m-> 2771\u001b[0m shrunk_path \u001b[38;5;241m=\u001b[39m \u001b[38;5;28;43mself\u001b[39;49m\u001b[38;5;241;43m.\u001b[39;49m\u001b[43m_shrink\u001b[49m\u001b[43m(\u001b[49m\u001b[43mclipped_path\u001b[49m\u001b[43m,\u001b[49m\u001b[43m \u001b[49m\u001b[43mshrinkA\u001b[49m\u001b[43m,\u001b[49m\u001b[43m \u001b[49m\u001b[43mshrinkB\u001b[49m\u001b[43m)\u001b[49m\n\u001b[1;32m   2772\u001b[0m \u001b[38;5;28;01mreturn\u001b[39;00m shrunk_path\n",
      "File \u001b[0;32m~/opt/anaconda3/lib/python3.9/site-packages/matplotlib/patches.py:2758\u001b[0m, in \u001b[0;36mConnectionStyle._Base._shrink\u001b[0;34m(self, path, shrinkA, shrinkB)\u001b[0m\n\u001b[1;32m   2757\u001b[0m \u001b[38;5;28;01mtry\u001b[39;00m:\n\u001b[0;32m-> 2758\u001b[0m     path, right \u001b[38;5;241m=\u001b[39m \u001b[43msplit_path_inout\u001b[49m\u001b[43m(\u001b[49m\u001b[43mpath\u001b[49m\u001b[43m,\u001b[49m\u001b[43m \u001b[49m\u001b[43minsideB\u001b[49m\u001b[43m)\u001b[49m\n\u001b[1;32m   2759\u001b[0m \u001b[38;5;28;01mexcept\u001b[39;00m \u001b[38;5;167;01mValueError\u001b[39;00m:\n",
      "File \u001b[0;32m~/opt/anaconda3/lib/python3.9/site-packages/matplotlib/bezier.py:371\u001b[0m, in \u001b[0;36msplit_path_inout\u001b[0;34m(path, inside, tolerance, reorder_inout)\u001b[0m\n\u001b[1;32m    370\u001b[0m bp \u001b[38;5;241m=\u001b[39m bezier_path\u001b[38;5;241m.\u001b[39mreshape((\u001b[38;5;241m-\u001b[39m\u001b[38;5;241m1\u001b[39m, \u001b[38;5;241m2\u001b[39m))\n\u001b[0;32m--> 371\u001b[0m left, right \u001b[38;5;241m=\u001b[39m \u001b[43msplit_bezier_intersecting_with_closedpath\u001b[49m\u001b[43m(\u001b[49m\n\u001b[1;32m    372\u001b[0m \u001b[43m    \u001b[49m\u001b[43mbp\u001b[49m\u001b[43m,\u001b[49m\u001b[43m \u001b[49m\u001b[43minside\u001b[49m\u001b[43m,\u001b[49m\u001b[43m \u001b[49m\u001b[43mtolerance\u001b[49m\u001b[43m)\u001b[49m\n\u001b[1;32m    373\u001b[0m \u001b[38;5;28;01mif\u001b[39;00m \u001b[38;5;28mlen\u001b[39m(left) \u001b[38;5;241m==\u001b[39m \u001b[38;5;241m2\u001b[39m:\n",
      "File \u001b[0;32m~/opt/anaconda3/lib/python3.9/site-packages/matplotlib/bezier.py:334\u001b[0m, in \u001b[0;36msplit_bezier_intersecting_with_closedpath\u001b[0;34m(bezier, inside_closedpath, tolerance)\u001b[0m\n\u001b[1;32m    332\u001b[0m bezier_point_at_t \u001b[38;5;241m=\u001b[39m bz\u001b[38;5;241m.\u001b[39mpoint_at_t\n\u001b[0;32m--> 334\u001b[0m t0, t1 \u001b[38;5;241m=\u001b[39m \u001b[43mfind_bezier_t_intersecting_with_closedpath\u001b[49m\u001b[43m(\u001b[49m\n\u001b[1;32m    335\u001b[0m \u001b[43m    \u001b[49m\u001b[43mbezier_point_at_t\u001b[49m\u001b[43m,\u001b[49m\u001b[43m \u001b[49m\u001b[43minside_closedpath\u001b[49m\u001b[43m,\u001b[49m\u001b[43m \u001b[49m\u001b[43mtolerance\u001b[49m\u001b[38;5;241;43m=\u001b[39;49m\u001b[43mtolerance\u001b[49m\u001b[43m)\u001b[49m\n\u001b[1;32m    337\u001b[0m _left, _right \u001b[38;5;241m=\u001b[39m split_de_casteljau(bezier, (t0 \u001b[38;5;241m+\u001b[39m t1) \u001b[38;5;241m/\u001b[39m \u001b[38;5;241m2.\u001b[39m)\n",
      "File \u001b[0;32m~/opt/anaconda3/lib/python3.9/site-packages/matplotlib/bezier.py:164\u001b[0m, in \u001b[0;36mfind_bezier_t_intersecting_with_closedpath\u001b[0;34m(bezier_point_at_t, inside_closedpath, t0, t1, tolerance)\u001b[0m\n\u001b[1;32m    161\u001b[0m \u001b[38;5;28;01mwhile\u001b[39;00m \u001b[38;5;28;01mTrue\u001b[39;00m:\n\u001b[1;32m    162\u001b[0m \n\u001b[1;32m    163\u001b[0m     \u001b[38;5;66;03m# return if the distance is smaller than the tolerance\u001b[39;00m\n\u001b[0;32m--> 164\u001b[0m     \u001b[38;5;28;01mif\u001b[39;00m \u001b[43mnp\u001b[49m\u001b[38;5;241;43m.\u001b[39;49m\u001b[43mhypot\u001b[49m\u001b[43m(\u001b[49m\u001b[43mstart\u001b[49m\u001b[43m[\u001b[49m\u001b[38;5;241;43m0\u001b[39;49m\u001b[43m]\u001b[49m\u001b[43m \u001b[49m\u001b[38;5;241;43m-\u001b[39;49m\u001b[43m \u001b[49m\u001b[43mend\u001b[49m\u001b[43m[\u001b[49m\u001b[38;5;241;43m0\u001b[39;49m\u001b[43m]\u001b[49m\u001b[43m,\u001b[49m\u001b[43m \u001b[49m\u001b[43mstart\u001b[49m\u001b[43m[\u001b[49m\u001b[38;5;241;43m1\u001b[39;49m\u001b[43m]\u001b[49m\u001b[43m \u001b[49m\u001b[38;5;241;43m-\u001b[39;49m\u001b[43m \u001b[49m\u001b[43mend\u001b[49m\u001b[43m[\u001b[49m\u001b[38;5;241;43m1\u001b[39;49m\u001b[43m]\u001b[49m\u001b[43m)\u001b[49m \u001b[38;5;241m<\u001b[39m tolerance:\n\u001b[1;32m    165\u001b[0m         \u001b[38;5;28;01mreturn\u001b[39;00m t0, t1\n",
      "\u001b[0;31mKeyboardInterrupt\u001b[0m: ",
      "\nDuring handling of the above exception, another exception occurred:\n",
      "\u001b[0;31mKeyError\u001b[0m                                  Traceback (most recent call last)",
      "File \u001b[0;32m~/opt/anaconda3/lib/python3.9/site-packages/PIL/Image.py:2192\u001b[0m, in \u001b[0;36mImage.save\u001b[0;34m(self, fp, format, **params)\u001b[0m\n\u001b[1;32m   2191\u001b[0m \u001b[38;5;28;01mtry\u001b[39;00m:\n\u001b[0;32m-> 2192\u001b[0m     \u001b[38;5;28mformat\u001b[39m \u001b[38;5;241m=\u001b[39m \u001b[43mEXTENSION\u001b[49m\u001b[43m[\u001b[49m\u001b[43mext\u001b[49m\u001b[43m]\u001b[49m\n\u001b[1;32m   2193\u001b[0m \u001b[38;5;28;01mexcept\u001b[39;00m \u001b[38;5;167;01mKeyError\u001b[39;00m \u001b[38;5;28;01mas\u001b[39;00m e:\n",
      "\u001b[0;31mKeyError\u001b[0m: '.mp4'",
      "\nThe above exception was the direct cause of the following exception:\n",
      "\u001b[0;31mValueError\u001b[0m                                Traceback (most recent call last)",
      "Input \u001b[0;32mIn [12]\u001b[0m, in \u001b[0;36m<cell line: 3>\u001b[0;34m()\u001b[0m\n\u001b[1;32m      1\u001b[0m anim \u001b[38;5;241m=\u001b[39m animation\u001b[38;5;241m.\u001b[39mFuncAnimation(fig, drawframe, frames\u001b[38;5;241m=\u001b[39mplotIter, interval\u001b[38;5;241m=\u001b[39m\u001b[38;5;241m20\u001b[39m, blit\u001b[38;5;241m=\u001b[39m\u001b[38;5;28;01mTrue\u001b[39;00m)\n\u001b[1;32m      2\u001b[0m \u001b[38;5;66;03m#plt.show()\u001b[39;00m\n\u001b[0;32m----> 3\u001b[0m \u001b[43manim\u001b[49m\u001b[38;5;241;43m.\u001b[39;49m\u001b[43msave\u001b[49m\u001b[43m(\u001b[49m\u001b[38;5;124;43m'\u001b[39;49m\u001b[38;5;124;43mMV_RotatingAgent3_UNITTEST.mp4\u001b[39;49m\u001b[38;5;124;43m'\u001b[39;49m\u001b[43m)\u001b[49m \u001b[38;5;66;03m#v1\u001b[39;00m\n\u001b[1;32m      4\u001b[0m spikes_overTime\u001b[38;5;241m.\u001b[39mto_csv(\u001b[38;5;124m'\u001b[39m\u001b[38;5;124mspikes_overTime_Rotating_UNITTEST.csv\u001b[39m\u001b[38;5;124m'\u001b[39m)\n\u001b[1;32m      5\u001b[0m positionData\u001b[38;5;241m.\u001b[39mto_csv(\u001b[38;5;124m'\u001b[39m\u001b[38;5;124mpositionData_Rotating_UNITTEST.csv\u001b[39m\u001b[38;5;124m'\u001b[39m)\n",
      "File \u001b[0;32m~/opt/anaconda3/lib/python3.9/site-packages/matplotlib/animation.py:1095\u001b[0m, in \u001b[0;36mAnimation.save\u001b[0;34m(self, filename, writer, fps, dpi, codec, bitrate, extra_args, metadata, extra_anim, savefig_kwargs, progress_callback)\u001b[0m\n\u001b[1;32m   1093\u001b[0m         progress_callback(frame_number, total_frames)\n\u001b[1;32m   1094\u001b[0m         frame_number \u001b[38;5;241m+\u001b[39m\u001b[38;5;241m=\u001b[39m \u001b[38;5;241m1\u001b[39m\n\u001b[0;32m-> 1095\u001b[0m writer\u001b[38;5;241m.\u001b[39mgrab_frame(\u001b[38;5;241m*\u001b[39m\u001b[38;5;241m*\u001b[39msavefig_kwargs)\n",
      "File \u001b[0;32m~/opt/anaconda3/lib/python3.9/contextlib.py:137\u001b[0m, in \u001b[0;36m_GeneratorContextManager.__exit__\u001b[0;34m(self, typ, value, traceback)\u001b[0m\n\u001b[1;32m    135\u001b[0m     value \u001b[38;5;241m=\u001b[39m typ()\n\u001b[1;32m    136\u001b[0m \u001b[38;5;28;01mtry\u001b[39;00m:\n\u001b[0;32m--> 137\u001b[0m     \u001b[38;5;28;43mself\u001b[39;49m\u001b[38;5;241;43m.\u001b[39;49m\u001b[43mgen\u001b[49m\u001b[38;5;241;43m.\u001b[39;49m\u001b[43mthrow\u001b[49m\u001b[43m(\u001b[49m\u001b[43mtyp\u001b[49m\u001b[43m,\u001b[49m\u001b[43m \u001b[49m\u001b[43mvalue\u001b[49m\u001b[43m,\u001b[49m\u001b[43m \u001b[49m\u001b[43mtraceback\u001b[49m\u001b[43m)\u001b[49m\n\u001b[1;32m    138\u001b[0m \u001b[38;5;28;01mexcept\u001b[39;00m \u001b[38;5;167;01mStopIteration\u001b[39;00m \u001b[38;5;28;01mas\u001b[39;00m exc:\n\u001b[1;32m    139\u001b[0m     \u001b[38;5;66;03m# Suppress StopIteration *unless* it's the same exception that\u001b[39;00m\n\u001b[1;32m    140\u001b[0m     \u001b[38;5;66;03m# was passed to throw().  This prevents a StopIteration\u001b[39;00m\n\u001b[1;32m    141\u001b[0m     \u001b[38;5;66;03m# raised inside the \"with\" statement from being suppressed.\u001b[39;00m\n\u001b[1;32m    142\u001b[0m     \u001b[38;5;28;01mreturn\u001b[39;00m exc \u001b[38;5;129;01mis\u001b[39;00m \u001b[38;5;129;01mnot\u001b[39;00m value\n",
      "File \u001b[0;32m~/opt/anaconda3/lib/python3.9/site-packages/matplotlib/animation.py:238\u001b[0m, in \u001b[0;36mAbstractMovieWriter.saving\u001b[0;34m(self, fig, outfile, dpi, *args, **kwargs)\u001b[0m\n\u001b[1;32m    236\u001b[0m     \u001b[38;5;28;01myield\u001b[39;00m \u001b[38;5;28mself\u001b[39m\n\u001b[1;32m    237\u001b[0m \u001b[38;5;28;01mfinally\u001b[39;00m:\n\u001b[0;32m--> 238\u001b[0m     \u001b[38;5;28;43mself\u001b[39;49m\u001b[38;5;241;43m.\u001b[39;49m\u001b[43mfinish\u001b[49m\u001b[43m(\u001b[49m\u001b[43m)\u001b[49m\n",
      "File \u001b[0;32m~/opt/anaconda3/lib/python3.9/site-packages/matplotlib/animation.py:514\u001b[0m, in \u001b[0;36mPillowWriter.finish\u001b[0;34m(self)\u001b[0m\n\u001b[1;32m    513\u001b[0m \u001b[38;5;28;01mdef\u001b[39;00m \u001b[38;5;21mfinish\u001b[39m(\u001b[38;5;28mself\u001b[39m):\n\u001b[0;32m--> 514\u001b[0m     \u001b[38;5;28;43mself\u001b[39;49m\u001b[38;5;241;43m.\u001b[39;49m\u001b[43m_frames\u001b[49m\u001b[43m[\u001b[49m\u001b[38;5;241;43m0\u001b[39;49m\u001b[43m]\u001b[49m\u001b[38;5;241;43m.\u001b[39;49m\u001b[43msave\u001b[49m\u001b[43m(\u001b[49m\n\u001b[1;32m    515\u001b[0m \u001b[43m        \u001b[49m\u001b[38;5;28;43mself\u001b[39;49m\u001b[38;5;241;43m.\u001b[39;49m\u001b[43moutfile\u001b[49m\u001b[43m,\u001b[49m\u001b[43m \u001b[49m\u001b[43msave_all\u001b[49m\u001b[38;5;241;43m=\u001b[39;49m\u001b[38;5;28;43;01mTrue\u001b[39;49;00m\u001b[43m,\u001b[49m\u001b[43m \u001b[49m\u001b[43mappend_images\u001b[49m\u001b[38;5;241;43m=\u001b[39;49m\u001b[38;5;28;43mself\u001b[39;49m\u001b[38;5;241;43m.\u001b[39;49m\u001b[43m_frames\u001b[49m\u001b[43m[\u001b[49m\u001b[38;5;241;43m1\u001b[39;49m\u001b[43m:\u001b[49m\u001b[43m]\u001b[49m\u001b[43m,\u001b[49m\n\u001b[1;32m    516\u001b[0m \u001b[43m        \u001b[49m\u001b[43mduration\u001b[49m\u001b[38;5;241;43m=\u001b[39;49m\u001b[38;5;28;43mint\u001b[39;49m\u001b[43m(\u001b[49m\u001b[38;5;241;43m1000\u001b[39;49m\u001b[43m \u001b[49m\u001b[38;5;241;43m/\u001b[39;49m\u001b[43m \u001b[49m\u001b[38;5;28;43mself\u001b[39;49m\u001b[38;5;241;43m.\u001b[39;49m\u001b[43mfps\u001b[49m\u001b[43m)\u001b[49m\u001b[43m,\u001b[49m\u001b[43m \u001b[49m\u001b[43mloop\u001b[49m\u001b[38;5;241;43m=\u001b[39;49m\u001b[38;5;241;43m0\u001b[39;49m\u001b[43m)\u001b[49m\n",
      "File \u001b[0;32m~/opt/anaconda3/lib/python3.9/site-packages/PIL/Image.py:2194\u001b[0m, in \u001b[0;36mImage.save\u001b[0;34m(self, fp, format, **params)\u001b[0m\n\u001b[1;32m   2192\u001b[0m         \u001b[38;5;28mformat\u001b[39m \u001b[38;5;241m=\u001b[39m EXTENSION[ext]\n\u001b[1;32m   2193\u001b[0m     \u001b[38;5;28;01mexcept\u001b[39;00m \u001b[38;5;167;01mKeyError\u001b[39;00m \u001b[38;5;28;01mas\u001b[39;00m e:\n\u001b[0;32m-> 2194\u001b[0m         \u001b[38;5;28;01mraise\u001b[39;00m \u001b[38;5;167;01mValueError\u001b[39;00m(\u001b[38;5;124mf\u001b[39m\u001b[38;5;124m\"\u001b[39m\u001b[38;5;124munknown file extension: \u001b[39m\u001b[38;5;132;01m{\u001b[39;00mext\u001b[38;5;132;01m}\u001b[39;00m\u001b[38;5;124m\"\u001b[39m) \u001b[38;5;28;01mfrom\u001b[39;00m \u001b[38;5;21;01me\u001b[39;00m\n\u001b[1;32m   2196\u001b[0m \u001b[38;5;28;01mif\u001b[39;00m \u001b[38;5;28mformat\u001b[39m\u001b[38;5;241m.\u001b[39mupper() \u001b[38;5;129;01mnot\u001b[39;00m \u001b[38;5;129;01min\u001b[39;00m SAVE:\n\u001b[1;32m   2197\u001b[0m     init()\n",
      "\u001b[0;31mValueError\u001b[0m: unknown file extension: .mp4"
     ]
    },
    {
     "name": "stdout",
     "output_type": "stream",
     "text": [
      "Error in callback <function flush_figures at 0x7f93111fb790> (for post_execute):\n"
     ]
    },
    {
     "name": "stderr",
     "output_type": "stream",
     "text": [
      "\n",
      "KeyboardInterrupt\n",
      "\n"
     ]
    }
   ],
   "source": [
    "anim = animation.FuncAnimation(fig, drawframe, frames=plotIter, interval=20, blit=True)\n",
    "#plt.show()\n",
    "anim.save('MV_RotatingAgent3_UNITTEST.mp4') #v1\n",
    "spikes_overTime.to_csv('spikes_overTime_Rotating_UNITTEST.csv')\n",
    "positionData.to_csv('positionData_Rotating_UNITTEST.csv')"
   ]
  },
  {
   "cell_type": "code",
   "execution_count": null,
   "metadata": {},
   "outputs": [],
   "source": []
  }
 ],
 "metadata": {
  "kernelspec": {
   "display_name": "Python 3 (ipykernel)",
   "language": "python",
   "name": "python3"
  },
  "language_info": {
   "codemirror_mode": {
    "name": "ipython",
    "version": 3
   },
   "file_extension": ".py",
   "mimetype": "text/x-python",
   "name": "python",
   "nbconvert_exporter": "python",
   "pygments_lexer": "ipython3",
   "version": "3.9.12"
  }
 },
 "nbformat": 4,
 "nbformat_minor": 4
}
