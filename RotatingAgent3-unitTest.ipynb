{
 "cells": [
  {
   "cell_type": "code",
   "execution_count": 1,
   "metadata": {},
   "outputs": [],
   "source": [
    "#%matplotlib notebook\n",
    "\n",
    "# import modules\n",
    "import random\n",
    "import scipy.stats\n",
    "import numpy as np\n",
    "import pandas as pd\n",
    "import matplotlib\n",
    "import matplotlib.pyplot as plt\n",
    "from matplotlib.colors import ListedColormap\n",
    "from matplotlib import cm\n",
    "from pathlib import Path\n",
    "import os\n",
    "cwd = os.getcwd()\n",
    "#import statsmodels.stats.moment_helpers\n",
    "#from datetime import datetime\n",
    "#import multiprocessing as mp\n",
    "import csv\n",
    "import networkx as nx\n",
    "from IPython.display import HTML\n",
    "from matplotlib import animation\n",
    "import networkx as nx"
   ]
  },
  {
   "cell_type": "markdown",
   "metadata": {},
   "source": [
    "# Setup"
   ]
  },
  {
   "cell_type": "markdown",
   "metadata": {},
   "source": [
    "## Parameters"
   ]
  },
  {
   "cell_type": "code",
   "execution_count": 2,
   "metadata": {},
   "outputs": [],
   "source": [
    "plotIter=100\n",
    "nnodes=350\n",
    "p_link=.1\n",
    "leak=.25#\n",
    "leaktype=1 #1 = leak a percentage, or 2 = leak a constant rate\n",
    "lrate_wmat=.01\n",
    "lrate_targ=.01\n",
    "targ_min=1\n",
    "sens_offset=30\n",
    "movement_amp=10\n",
    "input_amp=.75\n",
    "spike_cost = 0#.01\n",
    "stim_speed = 1\n",
    "noise_sd = 0#1\n",
    "weight_sd_init = 1\n",
    "effector_type = 1\n",
    "acts_neg=0"
   ]
  },
  {
   "cell_type": "markdown",
   "metadata": {},
   "source": [
    "## Set up sensor nodes and input connections"
   ]
  },
  {
   "cell_type": "code",
   "execution_count": 3,
   "metadata": {},
   "outputs": [],
   "source": [
    "sens_degrees = np.concatenate([np.flip(np.arange(-61,63,4)+30), np.flip(np.arange(-60,64,4)-30)])\n",
    "\n",
    "input_wmat=np.zeros((len(sens_degrees),nnodes))\n",
    "for row in range(input_wmat.shape[0]):\n",
    "    for col in range(nnodes):\n",
    "        input_wmat[row,col]=random.choices([0,input_amp], weights=(1-p_link,p_link), k=1)[0]"
   ]
  },
  {
   "cell_type": "code",
   "execution_count": 4,
   "metadata": {},
   "outputs": [
    {
     "data": {
      "text/plain": [
       "array([ 89,  85,  81,  77,  73,  69,  65,  61,  57,  53,  49,  45,  41,\n",
       "        37,  33,  29,  25,  21,  17,  13,   9,   5,   1,  -3,  -7, -11,\n",
       "       -15, -19, -23, -27, -31])"
      ]
     },
     "execution_count": 4,
     "metadata": {},
     "output_type": "execute_result"
    }
   ],
   "source": [
    "np.flip(np.arange(-61,63,4)+30)"
   ]
  },
  {
   "cell_type": "code",
   "execution_count": 5,
   "metadata": {},
   "outputs": [
    {
     "data": {
      "text/plain": [
       "array([ 30,  26,  22,  18,  14,  10,   6,   2,  -2,  -6, -10, -14, -18,\n",
       "       -22, -26, -30, -34, -38, -42, -46, -50, -54, -58, -62, -66, -70,\n",
       "       -74, -78, -82, -86, -90])"
      ]
     },
     "execution_count": 5,
     "metadata": {},
     "output_type": "execute_result"
    }
   ],
   "source": [
    "np.flip(np.arange(-60,64,4)-30)"
   ]
  },
  {
   "cell_type": "code",
   "execution_count": 6,
   "metadata": {},
   "outputs": [
    {
     "data": {
      "text/plain": [
       "31"
      ]
     },
     "execution_count": 6,
     "metadata": {},
     "output_type": "execute_result"
    }
   ],
   "source": [
    "len(np.flip(np.arange(-60,64,4)-30))"
   ]
  },
  {
   "cell_type": "markdown",
   "metadata": {},
   "source": [
    "## Set up internal weight matrix"
   ]
  },
  {
   "cell_type": "code",
   "execution_count": 7,
   "metadata": {},
   "outputs": [],
   "source": [
    "link_mat = np.zeros((nnodes,nnodes))\n",
    "inhibitory_nodes=[]\n",
    "for row in range(link_mat.shape[0]):\n",
    "    inhibitory = random.choices([0,1],weights=(.75,.25),k=1)[0]\n",
    "    if inhibitory == 1:\n",
    "        inhibitory_nodes.append(row)\n",
    "    for col in range(link_mat.shape[1]):\n",
    "        if row == col:\n",
    "            continue\n",
    "        if inhibitory == 1:\n",
    "            link_mat[row,col] = random.choices([0,-1], weights=(1-p_link,p_link), k=1)[0]\n",
    "        else:\n",
    "            link_mat[row,col] = random.choices([0,1], weights=(1-p_link,p_link), k=1)[0]\n",
    "        \n",
    "wmat=np.zeros((nnodes,nnodes))\n",
    "for row in range(wmat.shape[0]):\n",
    "    for col in range(wmat.shape[1]):\n",
    "        if link_mat[row,col] == 1:\n",
    "            wmat[row,col] =  np.random.normal(input_amp,.1)\n",
    "        if link_mat[row,col] == -1:\n",
    "            wmat[row,col] = np.random.normal(-input_amp,.1)\n",
    "            \n",
    "start_wmat=wmat.copy()"
   ]
  },
  {
   "cell_type": "code",
   "execution_count": 8,
   "metadata": {
    "scrolled": true
   },
   "outputs": [],
   "source": [
    "# # hist of wmat\n",
    "# n, bins, patches = plt.hist(x=np.matrix.flatten(wmat[link_mat != 0]), bins='auto', color='#0504aa',\n",
    "#                             alpha=0.7, rwidth=0.85)\n",
    "# plt.grid(axis='y', alpha=0.75)\n",
    "# plt.xlabel('Value')\n",
    "# plt.ylabel('Frequency')\n",
    "# plt.title('Weights at Start')\n",
    "# #plt.text(23, 45, r'$\\mu=15, b=3$')\n",
    "# maxfreq = n.max()\n",
    "# # Set a clean upper y-axis limit.\n",
    "# plt.ylim(ymax=np.ceil(maxfreq / 10) * 10 if maxfreq % 10 else maxfreq + 10)"
   ]
  },
  {
   "cell_type": "code",
   "execution_count": 9,
   "metadata": {},
   "outputs": [],
   "source": [
    "effector_nodes=[]\n",
    "output_wmat=np.zeros((nnodes,2))\n",
    "for row in range(output_wmat.shape[0]):\n",
    "    for col in range(output_wmat.shape[1]):\n",
    "        output_wmat[row,col]=random.choices([0,1], weights=(1-p_link,p_link), k=1)[0]\n",
    "        if output_wmat[row,col] != 0:\n",
    "            effector_nodes.append(row)"
   ]
  },
  {
   "cell_type": "markdown",
   "metadata": {},
   "source": [
    "## Functions"
   ]
  },
  {
   "cell_type": "code",
   "execution_count": 10,
   "metadata": {},
   "outputs": [],
   "source": [
    "def get_plot_vals(degree, heading):\n",
    "    x = np.cos(np.radians(degree))\n",
    "    y = np.sin(np.radians(degree))\n",
    "    \n",
    "    sLdeg = heading + sens_offset\n",
    "    if sLdeg > 360:\n",
    "        sLdeg = sLdeg - 360\n",
    "    sRdeg = heading - sens_offset\n",
    "    if sRdeg < 0:\n",
    "        sRdeg = 360 + sRdeg\n",
    "        \n",
    "    sLx = .5*np.cos(np.radians(sLdeg)) \n",
    "    sLy = .5*np.sin(np.radians(sLdeg)) \n",
    "    sLpos = np.array([sLx,sLy])\n",
    "    \n",
    "    sRx = .5*np.cos(np.radians(sRdeg)) \n",
    "    sRy = .5*np.sin(np.radians(sRdeg))\n",
    "    sRpos = np.array([sRx, sRy])\n",
    "    \n",
    "    return x, y, sLx, sLy, sRx, sRy\n",
    "\n",
    "def move_stim(degree, direction):\n",
    "    if direction == 1:\n",
    "        degree += stim_speed\n",
    "    else:\n",
    "        degree -= stim_speed\n",
    "        \n",
    "    if degree > 360:\n",
    "        degree = degree - 360\n",
    "    if degree < 0:\n",
    "        degree = degree + 360\n",
    "\n",
    "    return degree\n",
    "\n",
    "def rotate_agent(output_acts, heading):\n",
    "    diff = (output_acts[0] - output_acts[1])*movement_amp\n",
    "    heading = heading + diff\n",
    "    \n",
    "    if heading > 360:\n",
    "        heading = heading - 360\n",
    "    if heading < 0:\n",
    "        heading = heading + 360\n",
    "    \n",
    "    return heading\n",
    "\n",
    "def get_input_acts(heading, degree):\n",
    "    \n",
    "    sens_degrees_ = sens_degrees + heading\n",
    "    sens_degrees_[sens_degrees_>360]-=360\n",
    "    sens_degrees_[sens_degrees_<0]+=360\n",
    "    \n",
    "    sens_dists = np.abs(sens_degrees_ - degree)\n",
    "    sens_acts = np.zeros(len(sens_degrees))\n",
    "    sens_acts[sens_dists<=4]= 1 #- sens_dists/60\n",
    "        \n",
    "    return sens_acts\n",
    "\n",
    "def get_acts(acts,leak,spikes,wmat,input,input_wmat,targets, refractory, refractory_acts,spike_rep):\n",
    "     \n",
    "    acts = acts*(1-leak) + np.dot(input, input_wmat) + np.dot(spikes, wmat)\n",
    "\n",
    "    if acts_neg == 0:\n",
    "        acts[acts<0]=0\n",
    "    \n",
    "    prev_spikes = spikes.copy() \n",
    "    thresholds=targets*2\n",
    "    spikes[acts >= thresholds]=1\n",
    "    spikes[acts < thresholds]=0\n",
    "    \n",
    "    acts[spikes==1]-=thresholds[spikes==1]\n",
    "       \n",
    "    errors=acts-targets\n",
    "    \n",
    "    return acts, spikes, errors, refractory,refractory_acts, prev_spikes, spike_rep\n",
    "\n",
    "def learning(learn_on,link_mat,spikes,prev_spikes, errors,wmat,targets):\n",
    "    \n",
    "    active_neighbors=np.abs(link_mat.copy())\n",
    "    active_neighbors[prev_spikes==0,:]=0\n",
    "    d_wmat = active_neighbors.copy()\n",
    "    active_neighbors=np.sum(active_neighbors,axis=0)#+np.repeat(1,nnodes)\n",
    "    \n",
    "    if learn_on==1:\n",
    "        if np.sum(active_neighbors) >0:\n",
    "            d_wmat = errors*d_wmat\n",
    "            d_wmat=(d_wmat/active_neighbors)\n",
    "            #d_wmat=(d_wmat/(active_neighbors+1))\n",
    "            d_wmat=np.nan_to_num(d_wmat)\n",
    "            wmat-=d_wmat\n",
    "            \n",
    "        #targets=targets+((errors/(active_neighbors+1))*lrate_targ)\n",
    "        targets=targets+(errors*lrate_targ) \n",
    "        targets[targets<targ_min]=targ_min\n",
    "            \n",
    "    return wmat, targets\n",
    "\n"
   ]
  },
  {
   "cell_type": "markdown",
   "metadata": {},
   "source": [
    "# Run the model"
   ]
  },
  {
   "cell_type": "code",
   "execution_count": 11,
   "metadata": {
    "scrolled": true
   },
   "outputs": [
    {
     "name": "stderr",
     "output_type": "stream",
     "text": [
      "/var/folders/4l/vdtt_pdj26z3pnjjrzxryb20kgdqb9/T/ipykernel_39292/2790758162.py:15: FutureWarning: The frame.append method is deprecated and will be removed from pandas in a future version. Use pandas.concat instead.\n",
      "  spikes_overTime=spikes_overTime.append([spikes],ignore_index=True)\n",
      "/var/folders/4l/vdtt_pdj26z3pnjjrzxryb20kgdqb9/T/ipykernel_39292/2790758162.py:17: FutureWarning: The frame.append method is deprecated and will be removed from pandas in a future version. Use pandas.concat instead.\n",
      "  acts_overTime=acts_overTime.append([acts],ignore_index=True)\n",
      "/var/folders/4l/vdtt_pdj26z3pnjjrzxryb20kgdqb9/T/ipykernel_39292/2790758162.py:26: FutureWarning: The frame.append method is deprecated and will be removed from pandas in a future version. Use pandas.concat instead.\n",
      "  positionData=positionData.append([[degree, heading, 0]],ignore_index=True)\n"
     ]
    },
    {
     "data": {
      "image/png": "[encoded data removed]",
      "text/plain": [
       "<Figure size 864x576 with 6 Axes>"
      ]
     },
     "metadata": {
      "needs_background": "light"
     },
     "output_type": "display_data"
    }
   ],
   "source": [
    "spikes=np.zeros(nnodes)\n",
    "spike_rep=np.zeros(nnodes)\n",
    "refractory=np.zeros(nnodes)\n",
    "refractory_acts=np.zeros(nnodes)\n",
    "targets=np.repeat(targ_min,nnodes)\n",
    "acts=np.zeros(nnodes)\n",
    "inputs = np.zeros(len(sens_degrees))\n",
    "output_acts = np.zeros(2)\n",
    "# output_spikes = np.zeros(2)\n",
    "# output_targets = np.repeat(targ_min,2)\n",
    "MeanErs=[]\n",
    "MeanActs =[]\n",
    "MeanSpikes=[]\n",
    "spikes_overTime=pd.DataFrame()\n",
    "spikes_overTime=spikes_overTime.append([spikes],ignore_index=True)\n",
    "acts_overTime = pd.DataFrame()\n",
    "acts_overTime=acts_overTime.append([acts],ignore_index=True)\n",
    "\n",
    "\n",
    "i=1\n",
    "degree = 0\n",
    "heading = 90\n",
    "direction = 1\n",
    "\n",
    "positionData=pd.DataFrame()\n",
    "positionData=positionData.append([[degree, heading, 0]],ignore_index=True)\n",
    "\n",
    "learn_on=1\n",
    "def drawframe(n):\n",
    "    global acts_overTime, spikes_overTime, positionData,layout,refractory,refractory_acts,noise_sd,link_decay,spike_rep,direction,degree, heading, acts, input_acts, output_acts, leak, spikes, prev_spikes, wmat, input_wmat, output_wmat, targets, errors,MeanAbsErs,MeanActs,MeanSpikes\n",
    "    \n",
    "    print(n)\n",
    "    #     if n==(plotIter/2):\n",
    "    if (n %  720 == 0) and (n !=0):\n",
    "        if direction == 1:\n",
    "            direction = 2\n",
    "        else:\n",
    "            direction = 1\n",
    "    \n",
    "    if n > 50:\n",
    "        input = np.zeros(len(sens_degrees))\n",
    "    else:\n",
    "        input = get_input_acts(heading, degree)\n",
    "    \n",
    "    acts, spikes, errors, refractory,refractory_acts, prev_spikes, spike_rep = get_acts(acts,leak,spikes,wmat,input,input_wmat,targets,refractory,refractory_acts,spike_rep)\n",
    "    spikes_overTime=spikes_overTime.append([spikes],ignore_index=True)\n",
    "    acts_overTime=acts_overTime.append([acts],ignore_index=True)\n",
    "    \n",
    "    output_acts = np.dot(spikes, output_wmat)/np.sum(output_wmat, axis=0)\n",
    "        \n",
    "    wmat, targets = learning(learn_on,link_mat,spikes,prev_spikes, errors, wmat,targets)\n",
    "    \n",
    "    x, y, sLx, sLy, sRx, sRy = get_plot_vals(degree, heading)\n",
    "    \n",
    "    degree = move_stim(degree, direction)\n",
    "    heading = rotate_agent(output_acts, heading)\n",
    "    positionData=positionData.append([[degree, heading, n]],ignore_index=True)\n",
    "\n",
    "    pt1.set_data(x,y)\n",
    "    sL.set_data(sLx,sLy)\n",
    "    sR.set_data(sRx,sRy)\n",
    "\n",
    "    ax2.clear()\n",
    "    ax2.set_ylim((0, 1))\n",
    "    ax2.bar(sens_degrees,input, color = bar_colors, width=3,alpha=.4)\n",
    "    ax2.invert_xaxis()\n",
    "\n",
    "    bar1_plt3.set_height(output_acts[0])\n",
    "    bar2_plt3.set_height(output_acts[1])\n",
    "    \n",
    "    ax4.clear()\n",
    "    nx.draw_networkx(net, arrows=True,width=.1,with_labels=False, node_size=20, pos = layout, edge_color=edge_colors,node_color=spikes)\n",
    "    \n",
    "    bar1_plt5.set_height(np.mean(acts))\n",
    "    bar2_plt5.set_height(np.mean(errors[refractory!=2]))\n",
    "    bar3_plt5.set_height(np.mean(targets))\n",
    "    \n",
    "    ax6.clear()\n",
    "    f, bins, patches = ax6.hist(x=np.matrix.flatten(wmat[link_mat!=0]), bins='auto',alpha=0.7, rwidth=0.85)\n",
    "    maxfreq = f.max()\n",
    "    ax6.set_ylim(ymax=np.ceil(maxfreq / 10) * 10 if maxfreq % 10 else maxfreq + 10)\n",
    "\n",
    "    txt_title1.set_text('Frame = {0:4d}'.format(n))\n",
    "    txt_title2 = ax2.set_title('Sensors')\n",
    "    txt_title4 = ax4.set_title('Reservoir')\n",
    "    txt_title6 = ax6.set_title('Weight Dist.')\n",
    "    \n",
    "    if (n % 100 !=0):\n",
    "        MeanEr = np.mean(errors[refractory!=2])\n",
    "        MeanErs.append(MeanEr)\n",
    "        MeanAct = np.mean(acts)\n",
    "        MeanActs.append(MeanAct)\n",
    "        MeanSpike = np.mean(spikes)\n",
    "        MeanSpikes.append(MeanSpike)\n",
    "        #print('iteration: ', n, ' ; MeanAbsEr: ',MeanAbsEr, ' ; MeanAct: ', MeanAct)\n",
    "    else:\n",
    "        MeanEr = np.mean(errors[refractory!=2])\n",
    "        MeanErs.append(MeanEr)\n",
    "        MeanAct = np.mean(acts)\n",
    "        MeanActs.append(MeanAct)\n",
    "        MeanSpike = np.mean(spikes)\n",
    "        MeanSpikes.append(MeanSpike)\n",
    "        \n",
    "        MeanErs_ = np.round(np.mean(MeanErs),decimals=2)\n",
    "        MeanActs_ = np.round(np.mean(MeanActs),decimals=2)\n",
    "        MeanSpikes_ = np.round(np.mean(MeanSpikes),decimals=2)\n",
    "        print('iteration: ', str(n), ' ; MeanErs: ',str(MeanErs_), ' ; MeanAct: ', str(MeanActs_), '; MeanSpikes: ', str(MeanSpikes_))\n",
    "        MeanAbsErs=[]\n",
    "        MeanActs=[]\n",
    "        MeanSpikes=[]       \n",
    "\n",
    "    return (pt1,sL,sR)\n",
    "\n",
    "# create a figure and axes\n",
    "fig = plt.figure(figsize=(12,8))\n",
    "ax1 = plt.subplot(2,3,1)\n",
    "ax2 = plt.subplot(2,3,2)\n",
    "ax3 = plt.subplot(2,3,3)\n",
    "ax4 = plt.subplot(2,3,4)\n",
    "ax5 = plt.subplot(2,3,5)\n",
    "ax6 = plt.subplot(2,3,6)\n",
    "\n",
    "ax1.set_xlim(( -1, 1))            \n",
    "ax1.set_ylim((-1, 1))\n",
    "ax1.set_yticks((-1,-.5,0,.5,1))\n",
    "circle1 = plt.Circle((0, 0), 0.5, color='black', fill = 0)\n",
    "ax1.add_patch(circle1)\n",
    "pt1, = ax1.plot([], [], 'g.', ms=30)\n",
    "sL, = ax1.plot([],[], 'r.', ms =10)\n",
    "sR, = ax1.plot([],[], 'b.', ms =10)\n",
    "x, y, sLx, sLy, sRx, sRy = get_plot_vals(degree,heading)\n",
    "pt1.set_data(x,y)\n",
    "sL.set_data(sLx,sLy)\n",
    "sR.set_data(sRx,sRy)\n",
    "\n",
    "ax2.set_ylim((0, 1))\n",
    "bar_colors=np.array(np.repeat(['r','b'],31))\n",
    "plt2 = ax2.bar(sens_degrees,inputs, color = bar_colors, width=3,alpha=.4)\n",
    "ax2.invert_xaxis()\n",
    "\n",
    "ax3.set_ylim((0, 1))\n",
    "bar1_plt3, bar2_plt3 = ax3.bar(['effector L', 'effector R'],[0,0], color = ['r','b'])\n",
    "\n",
    "plt.sca(ax4)\n",
    "net = nx.from_numpy_matrix(np.abs(link_mat))\n",
    "layout = nx.spring_layout(net)\n",
    "edge_colors=np.repeat([[0.0,0.0,0.0,.2]],len(net.edges),axis=0)\n",
    "node_colors=np.repeat([[0.0,0.0,0.0,1]],nnodes,axis=0)\n",
    "netfig  = nx.draw_networkx(net, arrows=True,width=.1,with_labels=False, node_size=20, pos = layout, edge_color=edge_colors,node_color=node_colors)\n",
    "\n",
    "ax5.set_ylim(-3,3)\n",
    "bar1_plt5, bar2_plt5, bar3_plt5 = ax5.bar(['MAct','MErr', 'MTarget'],[0,0,0],color = 'black')\n",
    "ax5.axhline(y=0.0, color='black', linestyle='--')\n",
    "\n",
    "f, bins, patches = ax6.hist(x=np.matrix.flatten(wmat[link_mat!=0]), bins='auto',alpha=0.7, rwidth=0.85)\n",
    "maxfreq = f.max()\n",
    "ax6.set_ylim(ymax=np.ceil(maxfreq / 10) * 10 if maxfreq % 10 else maxfreq + 10)\n",
    "\n",
    "txt_title1 = ax1.set_title('')\n",
    "txt_title2 = ax2.set_title('Sensors')\n",
    "txt_title3 = ax3.set_title('Effectors')\n",
    "txt_title4 = ax4.set_title('Reservoir')\n",
    "txt_title5 = ax5.set_title('Acts, Errors, Targets')\n",
    "txt_title6 = ax6.set_title('Weight Dist.')\n"
   ]
  },
  {
   "cell_type": "code",
   "execution_count": 14,
   "metadata": {
    "scrolled": true
   },
   "outputs": [],
   "source": [
    "#anim = animation.FuncAnimation(fig, drawframe, frames=plotIter, interval=20, blit=True)\n",
    "#plt.show()\n",
    "#anim.save('MV_RotatingAgent3_unitTest.mp4') #v1\n",
    "spikes_overTime.to_csv('spikes_overTime_Rotating_unitTest.csv')\n",
    "acts_overTime.to_csv('acts_overTime_Rotating_unitTest.csv')\n",
    "\n",
    "positionData.to_csv('positionData_Rotating_unitTest.csv')"
   ]
  },
  {
   "cell_type": "code",
   "execution_count": null,
   "metadata": {},
   "outputs": [],
   "source": []
  }
 ],
 "metadata": {
  "kernelspec": {
   "display_name": "Python 3 (ipykernel)",
   "language": "python",
   "name": "python3"
  },
  "language_info": {
   "codemirror_mode": {
    "name": "ipython",
    "version": 3
   },
   "file_extension": ".py",
   "mimetype": "text/x-python",
   "name": "python",
   "nbconvert_exporter": "python",
   "pygments_lexer": "ipython3",
   "version": "3.9.12"
  }
 },
 "nbformat": 4,
 "nbformat_minor": 4
}
